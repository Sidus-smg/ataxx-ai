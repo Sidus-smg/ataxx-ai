{
 "cells": [
  {
   "cell_type": "code",
   "execution_count": 1,
   "metadata": {
    "tags": []
   },
   "outputs": [],
   "source": [
    "import ataxx\n",
    "import ataxx.pgn\n",
    "f = open('data/000cde9536aa3c15a6722452cb733632.txt', 'r')\n",
    "game = ataxx.pgn.parse(f.read())"
   ]
  },
  {
   "cell_type": "code",
   "execution_count": 2,
   "metadata": {
    "tags": []
   },
   "outputs": [
    {
     "output_type": "stream",
     "name": "stdout",
     "text": "[[0, 0, 1, 0, 0, -1, -1], [0, 0, 1, 0, 0, 0, 0], [0, 0, 0, 0, 0, 0, 0], [0, 0, 0, 0, 0, 0, 0], [0, 0, 0, 0, 0, 0, 0], [-1, 0, 0, 0, 0, 0, 0], [-1, 0, 0, 0, 0, 0, 1]]\n"
    }
   ],
   "source": [
    "board = ataxx.Board(game.headers['FEN'], 512)\n",
    "def board_to_list(board, inverse=None):\n",
    "    if inverse is None:\n",
    "        inverse = (board.turn == ataxx.WHITE)\n",
    "    if not inverse:\n",
    "        mapping = {ataxx.EMPTY: 0, ataxx.BLACK: 1, ataxx.WHITE: -1}\n",
    "    else:\n",
    "        mapping = {ataxx.EMPTY: 0, ataxx.BLACK: -1, ataxx.WHITE: 1}\n",
    "    return [[mapping[board.get(x, y)] for x in range(7)] for y in range(7)]\n",
    "print(list(reversed(board_to_list(board))))"
   ]
  },
  {
   "cell_type": "code",
   "execution_count": 3,
   "metadata": {
    "scrolled": true,
    "tags": []
   },
   "outputs": [
    {
     "output_type": "stream",
     "name": "stdout",
     "text": "b5\n[[1, 0, 0, 0, 0, 0, -1], [1, 0, 0, 0, 0, 0, 0], [0, 0, 0, 0, 0, 0, 0], [0, 0, 0, 0, 0, 0, 0], [0, -1, 0, 0, 0, 0, 0], [0, 0, -1, 0, 0, 0, 0], [0, 0, -1, 0, 0, 1, 1]]\n"
    }
   ],
   "source": [
    "board.makemove(list(game.main_line())[0].move)\n",
    "print(list(game.main_line())[0].move)\n",
    "print(board_to_list(board))"
   ]
  },
  {
   "cell_type": "code",
   "execution_count": 4,
   "metadata": {},
   "outputs": [],
   "source": [
    "iter_line = iter(game.main_line())"
   ]
  },
  {
   "cell_type": "code",
   "execution_count": 5,
   "metadata": {},
   "outputs": [],
   "source": [
    " _a = next(iter_line)"
   ]
  },
  {
   "cell_type": "code",
   "execution_count": 6,
   "metadata": {
    "tags": []
   },
   "outputs": [
    {
     "output_type": "stream",
     "name": "stdout",
     "text": "b5\ne7\n"
    },
    {
     "output_type": "execute_result",
     "data": {
      "text/plain": "<ataxx.Move at 0x7f12781c2190>"
     },
     "metadata": {},
     "execution_count": 6
    }
   ],
   "source": [
    "print(str(_a.move))\n",
    "print(str(_a.children[0].move))\n",
    "_a.move"
   ]
  },
  {
   "cell_type": "code",
   "execution_count": 7,
   "metadata": {},
   "outputs": [],
   "source": [
    "from torch.utils.data import IterableDataset, DataLoader\n",
    "from random import sample\n",
    "from os import listdir\n",
    "_direction_map = {(0,2): 1,\n",
    "                  (1,2): 2,\n",
    "                  (2,2): 3,\n",
    "                  (2,1): 4,\n",
    "                  (2,0): 5,\n",
    "                  (2,-1): 6,\n",
    "                  (2,-2): 7,\n",
    "                  (1,-2): 8,\n",
    "                  (0,-2): 9,\n",
    "                  (-1,-2): 10,\n",
    "                  (-2,-2): 11,\n",
    "                  (-2,-1): 12,\n",
    "                  (-2,0): 13,\n",
    "                  (-2,1): 14,\n",
    "                  (-2,2): 15,\n",
    "                  (-1,2): 16\n",
    "                  }\n",
    "def direction(fr_x, fr_y, to_x, to_y):\n",
    "    return _direction_map[(to_x-fr_x, to_y-fr_y)]\n",
    "\n",
    "class PgnDataset(IterableDataset):\n",
    "    def __init__(self, filename=None):\n",
    "        super(PgnDataset).__init__()\n",
    "        if filename is None:\n",
    "            filename = ['data/'+x for x in listdir('data')]\n",
    "        self.file = filename\n",
    "        self.file_queue = sample(self.file, len(self.file))\n",
    "    def __iter__(self):\n",
    "        '''Current player is always 1'''\n",
    "        self.iter = GameIter(self.file_queue[:])\n",
    "        return self.iter\n",
    "    \n",
    "class GameIter():\n",
    "    def __init__(self, file_queue):\n",
    "        self.file_queue = file_queue\n",
    "        filename = self.file_queue.pop()\n",
    "        self.load_game(filename)\n",
    "\n",
    "    def load_game(self, filename):\n",
    "        with open(filename, 'r') as f:\n",
    "            game = ataxx.pgn.parse(f.read())\n",
    "        self.game = game\n",
    "        self.board = ataxx.Board(game.headers['FEN'], 512)\n",
    "        self.game_iter = iter(game.main_line())\n",
    "\n",
    "    def __iter__(self):\n",
    "        return self\n",
    "\n",
    "    def __next__(self):\n",
    "        if self.board.gameover():\n",
    "            if len(self.file_queue) == 0:\n",
    "                raise StopIteration\n",
    "            else:\n",
    "                filename = self.file_queue.pop()\n",
    "                self.load_game(filename)\n",
    "        current_move = next(self.game_iter)\n",
    "        self.board.makemove(current_move.move)\n",
    "\n",
    "        # Make input tensor\n",
    "        board_tensor = torch.tensor(board_to_list(self.board), dtype=torch.float)\n",
    "        board_player = F.relu(board_tensor)\n",
    "        board_opponent = F.relu(-board_tensor)\n",
    "        countdown = (512 - self.board.fullmove_clock) / 512\n",
    "        turn_tensor = torch.full(board_tensor.size(), countdown, dtype=torch.float)\n",
    "        input_stack = (board_player, board_opponent, turn_tensor)\n",
    "\n",
    "        # Make value tensor\n",
    "        if self.game.headers['Result'] == '1-0': # black is winner\n",
    "            v = 1 if self.board.turn == ataxx.BLACK else -1\n",
    "        elif self.game.headers['Result'] == '0-1': # white is winner\n",
    "            v = -1 if self.board.turn == ataxx.BLACK else 1\n",
    "        else:\n",
    "            v = 0\n",
    "\n",
    "        # Make policy tensor\n",
    "        policy = 0\n",
    "        if len(current_move.children) == 0:\n",
    "            next_move = current_move.move\n",
    "        else:\n",
    "            next_move = current_move.children[0].move\n",
    "        move_tensor = torch.zeros((17, 7, 7))\n",
    "        if next_move.is_single():\n",
    "            move_tensor[0, next_move.to_x, next_move.to_y] = 1\n",
    "            move_direction = 0\n",
    "        else:\n",
    "            move_direction = direction(next_move.fr_x, next_move.fr_y, next_move.to_x, next_move.to_y)\n",
    "            move_tensor[move_direction, next_move.to_x, next_move.to_y] = 1\n",
    "        policy = move_direction * 7 * 7 + next_move.to_x * 7 + next_move.to_y\n",
    "        if policy < 0:\n",
    "            policy = 0\n",
    "\n",
    "        return {'input': torch.stack(input_stack, dim=0),\n",
    "                'value': torch.tensor([v], dtype=torch.float),\n",
    "                'policy': torch.tensor(policy, dtype=torch.long)}\n",
    "        "
   ]
  },
  {
   "cell_type": "code",
   "execution_count": 8,
   "metadata": {},
   "outputs": [
    {
     "output_type": "execute_result",
     "data": {
      "text/plain": "19942"
     },
     "metadata": {},
     "execution_count": 8
    }
   ],
   "source": [
    "len(listdir('data'))"
   ]
  },
  {
   "cell_type": "code",
   "execution_count": 9,
   "metadata": {},
   "outputs": [],
   "source": [
    "import torch\n",
    "import torch.nn as nn\n",
    "import torch.nn.functional as F\n",
    "import torch.optim\n",
    "\n",
    "class EvalNet(nn.Module):\n",
    "    def __init__(self, size=7):\n",
    "        self.size = size\n",
    "        super(EvalNet, self).__init__()\n",
    "        self.fc_value = nn.Linear(size*size, 1, bias=False)\n",
    "\n",
    "    def forward(self, batch):\n",
    "        x = batch.view(-1, self.size*self.size)\n",
    "        v1 = self.fc_value(F.relu(x))\n",
    "        v2 = self.fc_value(F.relu(-x))\n",
    "        return torch.tanh(v1 - v2)\n",
    "\n",
    "class ResidualBlock(nn.Module):\n",
    "    def __init__(self, size=7, channel=16):\n",
    "        super(ResidualBlock, self).__init__()\n",
    "        self.size = size\n",
    "        self.channel = channel\n",
    "        self.conv1a = nn.Conv2d(channel, channel//2, kernel_size=3, padding=1, bias=False)\n",
    "        self.conv1b = nn.Conv2d(channel, channel//2, kernel_size=5, padding=2, bias=False)\n",
    "        self.bn1 = nn.BatchNorm2d(channel)\n",
    "        self.relu = nn.ReLU(inplace=True)\n",
    "        self.conv2a = nn.Conv2d(channel, channel//2, kernel_size=3, padding=1, bias=False)\n",
    "        self.conv2b = nn.Conv2d(channel, channel//2, kernel_size=5, padding=2, bias=False)\n",
    "        self.bn2 = nn.BatchNorm2d(channel)\n",
    "\n",
    "    def forward(self, input):\n",
    "        xa = self.conv1a(input)\n",
    "        xb = self.conv1b(input)\n",
    "        x = torch.cat((xa, xb), dim=1)\n",
    "        x = self.bn1(x)\n",
    "        x = self.relu(x)\n",
    "        xa = self.conv2a(x)\n",
    "        xb = self.conv2b(x)\n",
    "        x = torch.cat((xa, xb), dim=1)\n",
    "        x = self.bn2(x)\n",
    "        x += input\n",
    "        x = self.relu(x)\n",
    "        return x\n",
    "\n",
    "class SidusAtaxxNet(nn.Module):\n",
    "    def __init__(self, size=7):\n",
    "        self.size = size\n",
    "        \n",
    "        super(SidusAtaxxNet, self).__init__()\n",
    "        self.conv1a = nn.Conv2d(3, 8, kernel_size=3, padding=1, bias=False)\n",
    "        self.conv1b = nn.Conv2d(3, 4, kernel_size=5, padding=2, bias=False)\n",
    "        self.conv1c = nn.Conv2d(3, 4, kernel_size=7, padding=3, bias=False)\n",
    "        self.relu = nn.ReLU(inplace=True)\n",
    "        self.bn1 = nn.BatchNorm2d(16)\n",
    "\n",
    "        self.res_layers = nn.Sequential(*[ResidualBlock() for i in range(6)])\n",
    "\n",
    "        self.conv_val = nn.Conv2d(16, 1, kernel_size=1, bias=False)\n",
    "        self.bn_val = nn.BatchNorm2d(1)\n",
    "        self.fc_val1 = nn.Linear(size*size, size*size)\n",
    "        self.fc_val2 = nn.Linear(size*size, 1)\n",
    "\n",
    "        self.conv_pol = nn.Conv2d(16, 3, kernel_size=1, bias=False)\n",
    "        self.bn_pol = nn.BatchNorm2d(3)\n",
    "        self.fc_pol = nn.Linear(3*size*size, 17*size*size)\n",
    "        \n",
    "    def forward(self, batch):\n",
    "        x = batch.view(-1, 3, self.size, self.size)\n",
    "\n",
    "        xa = self.relu(self.conv1a(x))\n",
    "        xb = self.relu(self.conv1b(x))\n",
    "        xc = self.relu(self.conv1b(x))\n",
    "        x = torch.cat((xa, xb, xc), dim=1)\n",
    "        x = self.bn1(x)\n",
    "        x = self.relu(x)\n",
    "\n",
    "        x = self.res_layers(x)\n",
    "\n",
    "        x_val = self.conv_val(x)\n",
    "        x_val = self.bn_val(x_val)\n",
    "        x_val = self.relu(x_val)\n",
    "        x_val = x_val.view(-1, 1*self.size*self.size)\n",
    "        x_val = self.fc_val1(x_val)\n",
    "        x_val = self.relu(x_val)\n",
    "        x_val = self.fc_val2(x_val)\n",
    "\n",
    "        x_pol = self.conv_pol(x)\n",
    "        x_pol = self.bn_pol(x_pol)\n",
    "        x_pol = self.relu(x_pol)\n",
    "        x_pol = x_pol.view(-1, 3*self.size*self.size)\n",
    "        x_pol = self.fc_pol(x_pol)\n",
    "        \n",
    "        return F.log_softmax(x_pol, dim=1), torch.tanh(x_val)"
   ]
  },
  {
   "cell_type": "code",
   "execution_count": 10,
   "metadata": {},
   "outputs": [],
   "source": [
    "net = SidusAtaxxNet()\n",
    "net.load_state_dict(torch.load('model.pt'))\n",
    "def train(use_local_batch=False, reduce_data=None):\n",
    "    if use_local_batch:\n",
    "        if reduce_data != None:\n",
    "            datafeeder = PgnDataset(['data/'+x for x in listdir('data')][:reduce_data])\n",
    "        else:\n",
    "            datafeeder = PgnDataset(['data/'+x for x in listdir('data')])\n",
    "    else:\n",
    "        datafeeder = DataLoader()\n",
    "    # Generate batch\n",
    "    dataloader = DataLoader(datafeeder, batch_size=32)\n",
    "    # Don't forget dataset augumentation!\n",
    "    # Train the model\n",
    "    criterion_pol = nn.NLLLoss()\n",
    "    criterion_val = nn.MSELoss()\n",
    "    optim = torch.optim.Adam(net.parameters(), lr=0.001)\n",
    "    net.train()\n",
    "    net.cuda()\n",
    "    for epoch in range(10):\n",
    "        total_loss = 0\n",
    "        loss_pol_sum = 0\n",
    "        loss_val_sum = 0\n",
    "        print('epoch', epoch)\n",
    "        for i, data in enumerate(dataloader):\n",
    "            optim.zero_grad()\n",
    "            output = net(data['input'].to('cuda'))\n",
    "            policy, value = output\n",
    "            loss_pol = criterion_pol(policy, data['policy'].to('cuda'))\n",
    "            loss_val = criterion_val(value, data['value'].to('cuda'))\n",
    "            loss = loss_pol + 5 * loss_val\n",
    "            loss.backward()\n",
    "            optim.step()\n",
    "\n",
    "            loss_pol_sum += loss_pol.detach().cpu().item()\n",
    "            loss_val_sum += loss_val.detach().cpu().item()\n",
    "            total_loss += loss.detach().cpu().item()\n",
    "            print_interval = 1000\n",
    "            if i % print_interval == print_interval - 1:\n",
    "                print('[%d, %5d] loss: %.8f\\tpol: %.8f\\tval: %.8f' %\n",
    "                  (epoch + 1, i + 1, total_loss/print_interval, loss_pol_sum/print_interval, loss_val_sum/print_interval))\n",
    "                total_loss = 0\n",
    "                loss_pol_sum = 0\n",
    "                loss_val_sum = 0\n",
    "                torch.save({'epoch': epoch,\n",
    "                            'step': i,\n",
    "                            'model_state_dict': net.state_dict(),\n",
    "                            'optimizer_state_dict': optim.state_dict(),\n",
    "                            'loss': loss}, 'checkpoint.tar')\n",
    "        torch.save(net.state_dict(), 'model.pt')\n",
    "    # Compete with the best model\n",
    "\n",
    "def main(reduce_data=None):\n",
    "    train(use_local_batch=True, reduce_data=reduce_data)"
   ]
  },
  {
   "cell_type": "code",
   "execution_count": 11,
   "metadata": {
    "tags": []
   },
   "outputs": [
    {
     "output_type": "stream",
     "name": "stdout",
     "text": "epoch 0\n[1,  1000] loss: 12.56895155\tpol: 8.99324589\tval: 0.71514113\n[1,  2000] loss: 6.50627532\tpol: 3.48140749\tval: 0.60497356\n[1,  3000] loss: 5.62427087\tpol: 2.95286922\tval: 0.53428033\n[1,  4000] loss: 5.23985610\tpol: 2.65146947\tval: 0.51767733\n[1,  5000] loss: 5.25085525\tpol: 2.44507223\tval: 0.56115660\n[1,  6000] loss: 5.10035934\tpol: 2.41169110\tval: 0.53773364\n[1,  7000] loss: 4.85898345\tpol: 2.32592551\tval: 0.50661159\n[1,  8000] loss: 4.89109935\tpol: 2.31540198\tval: 0.51513947\n[1,  9000] loss: 4.80934175\tpol: 2.25203333\tval: 0.51146169\n[1, 10000] loss: 4.99558542\tpol: 2.27726388\tval: 0.54366431\n[1, 11000] loss: 4.88507943\tpol: 2.24559147\tval: 0.52789759\n[1, 12000] loss: 4.60812975\tpol: 2.20129177\tval: 0.48136759\n[1, 13000] loss: 4.66350889\tpol: 2.17827464\tval: 0.49704685\n[1, 14000] loss: 4.99946029\tpol: 2.19628846\tval: 0.56063437\n[1, 15000] loss: 4.72954157\tpol: 2.19178023\tval: 0.50755227\n[1, 16000] loss: 4.54320518\tpol: 2.14176703\tval: 0.48028763\n[1, 17000] loss: 4.40359769\tpol: 2.12416015\tval: 0.45588751\n[1, 18000] loss: 4.46608910\tpol: 2.17619309\tval: 0.45797920\n[1, 19000] loss: 4.77254669\tpol: 2.14124543\tval: 0.52626025\n[1, 20000] loss: 4.60945970\tpol: 2.08624591\tval: 0.50464276\n[1, 21000] loss: 4.88126551\tpol: 2.11703957\tval: 0.55284519\n"
    },
    {
     "output_type": "error",
     "ename": "KeyboardInterrupt",
     "evalue": "",
     "traceback": [
      "\u001b[0;31m---------------------------------------------------------------------------\u001b[0m",
      "\u001b[0;31mKeyboardInterrupt\u001b[0m                         Traceback (most recent call last)",
      "\u001b[0;32m<ipython-input-11-263240bbee7e>\u001b[0m in \u001b[0;36m<module>\u001b[0;34m\u001b[0m\n\u001b[0;32m----> 1\u001b[0;31m \u001b[0mmain\u001b[0m\u001b[0;34m(\u001b[0m\u001b[0;34m)\u001b[0m\u001b[0;34m\u001b[0m\u001b[0;34m\u001b[0m\u001b[0m\n\u001b[0m",
      "\u001b[0;32m<ipython-input-10-ab6c0f822925>\u001b[0m in \u001b[0;36mmain\u001b[0;34m(reduce_data)\u001b[0m\n\u001b[1;32m     52\u001b[0m \u001b[0;34m\u001b[0m\u001b[0m\n\u001b[1;32m     53\u001b[0m \u001b[0;32mdef\u001b[0m \u001b[0mmain\u001b[0m\u001b[0;34m(\u001b[0m\u001b[0mreduce_data\u001b[0m\u001b[0;34m=\u001b[0m\u001b[0;32mNone\u001b[0m\u001b[0;34m)\u001b[0m\u001b[0;34m:\u001b[0m\u001b[0;34m\u001b[0m\u001b[0;34m\u001b[0m\u001b[0m\n\u001b[0;32m---> 54\u001b[0;31m     \u001b[0mtrain\u001b[0m\u001b[0;34m(\u001b[0m\u001b[0muse_local_batch\u001b[0m\u001b[0;34m=\u001b[0m\u001b[0;32mTrue\u001b[0m\u001b[0;34m,\u001b[0m \u001b[0mreduce_data\u001b[0m\u001b[0;34m=\u001b[0m\u001b[0mreduce_data\u001b[0m\u001b[0;34m)\u001b[0m\u001b[0;34m\u001b[0m\u001b[0;34m\u001b[0m\u001b[0m\n\u001b[0m",
      "\u001b[0;32m<ipython-input-10-ab6c0f822925>\u001b[0m in \u001b[0;36mtrain\u001b[0;34m(use_local_batch, reduce_data)\u001b[0m\n\u001b[1;32m     31\u001b[0m             \u001b[0mloss\u001b[0m \u001b[0;34m=\u001b[0m \u001b[0mloss_pol\u001b[0m \u001b[0;34m+\u001b[0m \u001b[0;36m5\u001b[0m \u001b[0;34m*\u001b[0m \u001b[0mloss_val\u001b[0m\u001b[0;34m\u001b[0m\u001b[0;34m\u001b[0m\u001b[0m\n\u001b[1;32m     32\u001b[0m             \u001b[0mloss\u001b[0m\u001b[0;34m.\u001b[0m\u001b[0mbackward\u001b[0m\u001b[0;34m(\u001b[0m\u001b[0;34m)\u001b[0m\u001b[0;34m\u001b[0m\u001b[0;34m\u001b[0m\u001b[0m\n\u001b[0;32m---> 33\u001b[0;31m             \u001b[0moptim\u001b[0m\u001b[0;34m.\u001b[0m\u001b[0mstep\u001b[0m\u001b[0;34m(\u001b[0m\u001b[0;34m)\u001b[0m\u001b[0;34m\u001b[0m\u001b[0;34m\u001b[0m\u001b[0m\n\u001b[0m\u001b[1;32m     34\u001b[0m \u001b[0;34m\u001b[0m\u001b[0m\n\u001b[1;32m     35\u001b[0m             \u001b[0mloss_pol_sum\u001b[0m \u001b[0;34m+=\u001b[0m \u001b[0mloss_pol\u001b[0m\u001b[0;34m.\u001b[0m\u001b[0mdetach\u001b[0m\u001b[0;34m(\u001b[0m\u001b[0;34m)\u001b[0m\u001b[0;34m.\u001b[0m\u001b[0mcpu\u001b[0m\u001b[0;34m(\u001b[0m\u001b[0;34m)\u001b[0m\u001b[0;34m.\u001b[0m\u001b[0mitem\u001b[0m\u001b[0;34m(\u001b[0m\u001b[0;34m)\u001b[0m\u001b[0;34m\u001b[0m\u001b[0;34m\u001b[0m\u001b[0m\n",
      "\u001b[0;32m~/miniconda3/lib/python3.7/site-packages/torch/autograd/grad_mode.py\u001b[0m in \u001b[0;36mdecorate_context\u001b[0;34m(*args, **kwargs)\u001b[0m\n\u001b[1;32m     13\u001b[0m         \u001b[0;32mdef\u001b[0m \u001b[0mdecorate_context\u001b[0m\u001b[0;34m(\u001b[0m\u001b[0;34m*\u001b[0m\u001b[0margs\u001b[0m\u001b[0;34m,\u001b[0m \u001b[0;34m**\u001b[0m\u001b[0mkwargs\u001b[0m\u001b[0;34m)\u001b[0m\u001b[0;34m:\u001b[0m\u001b[0;34m\u001b[0m\u001b[0;34m\u001b[0m\u001b[0m\n\u001b[1;32m     14\u001b[0m             \u001b[0;32mwith\u001b[0m \u001b[0mself\u001b[0m\u001b[0;34m:\u001b[0m\u001b[0;34m\u001b[0m\u001b[0;34m\u001b[0m\u001b[0m\n\u001b[0;32m---> 15\u001b[0;31m                 \u001b[0;32mreturn\u001b[0m \u001b[0mfunc\u001b[0m\u001b[0;34m(\u001b[0m\u001b[0;34m*\u001b[0m\u001b[0margs\u001b[0m\u001b[0;34m,\u001b[0m \u001b[0;34m**\u001b[0m\u001b[0mkwargs\u001b[0m\u001b[0;34m)\u001b[0m\u001b[0;34m\u001b[0m\u001b[0;34m\u001b[0m\u001b[0m\n\u001b[0m\u001b[1;32m     16\u001b[0m         \u001b[0;32mreturn\u001b[0m \u001b[0mdecorate_context\u001b[0m\u001b[0;34m\u001b[0m\u001b[0;34m\u001b[0m\u001b[0m\n\u001b[1;32m     17\u001b[0m \u001b[0;34m\u001b[0m\u001b[0m\n",
      "\u001b[0;32m~/miniconda3/lib/python3.7/site-packages/torch/optim/adam.py\u001b[0m in \u001b[0;36mstep\u001b[0;34m(self, closure)\u001b[0m\n\u001b[1;32m    105\u001b[0m                     \u001b[0mdenom\u001b[0m \u001b[0;34m=\u001b[0m \u001b[0;34m(\u001b[0m\u001b[0mmax_exp_avg_sq\u001b[0m\u001b[0;34m.\u001b[0m\u001b[0msqrt\u001b[0m\u001b[0;34m(\u001b[0m\u001b[0;34m)\u001b[0m \u001b[0;34m/\u001b[0m \u001b[0mmath\u001b[0m\u001b[0;34m.\u001b[0m\u001b[0msqrt\u001b[0m\u001b[0;34m(\u001b[0m\u001b[0mbias_correction2\u001b[0m\u001b[0;34m)\u001b[0m\u001b[0;34m)\u001b[0m\u001b[0;34m.\u001b[0m\u001b[0madd_\u001b[0m\u001b[0;34m(\u001b[0m\u001b[0mgroup\u001b[0m\u001b[0;34m[\u001b[0m\u001b[0;34m'eps'\u001b[0m\u001b[0;34m]\u001b[0m\u001b[0;34m)\u001b[0m\u001b[0;34m\u001b[0m\u001b[0;34m\u001b[0m\u001b[0m\n\u001b[1;32m    106\u001b[0m                 \u001b[0;32melse\u001b[0m\u001b[0;34m:\u001b[0m\u001b[0;34m\u001b[0m\u001b[0;34m\u001b[0m\u001b[0m\n\u001b[0;32m--> 107\u001b[0;31m                     \u001b[0mdenom\u001b[0m \u001b[0;34m=\u001b[0m \u001b[0;34m(\u001b[0m\u001b[0mexp_avg_sq\u001b[0m\u001b[0;34m.\u001b[0m\u001b[0msqrt\u001b[0m\u001b[0;34m(\u001b[0m\u001b[0;34m)\u001b[0m \u001b[0;34m/\u001b[0m \u001b[0mmath\u001b[0m\u001b[0;34m.\u001b[0m\u001b[0msqrt\u001b[0m\u001b[0;34m(\u001b[0m\u001b[0mbias_correction2\u001b[0m\u001b[0;34m)\u001b[0m\u001b[0;34m)\u001b[0m\u001b[0;34m.\u001b[0m\u001b[0madd_\u001b[0m\u001b[0;34m(\u001b[0m\u001b[0mgroup\u001b[0m\u001b[0;34m[\u001b[0m\u001b[0;34m'eps'\u001b[0m\u001b[0;34m]\u001b[0m\u001b[0;34m)\u001b[0m\u001b[0;34m\u001b[0m\u001b[0;34m\u001b[0m\u001b[0m\n\u001b[0m\u001b[1;32m    108\u001b[0m \u001b[0;34m\u001b[0m\u001b[0m\n\u001b[1;32m    109\u001b[0m                 \u001b[0mstep_size\u001b[0m \u001b[0;34m=\u001b[0m \u001b[0mgroup\u001b[0m\u001b[0;34m[\u001b[0m\u001b[0;34m'lr'\u001b[0m\u001b[0;34m]\u001b[0m \u001b[0;34m/\u001b[0m \u001b[0mbias_correction1\u001b[0m\u001b[0;34m\u001b[0m\u001b[0;34m\u001b[0m\u001b[0m\n",
      "\u001b[0;31mKeyboardInterrupt\u001b[0m: "
     ]
    }
   ],
   "source": [
    "main()"
   ]
  },
  {
   "cell_type": "code",
   "execution_count": null,
   "metadata": {
    "tags": []
   },
   "outputs": [],
   "source": [
    "main()"
   ]
  },
  {
   "cell_type": "code",
   "execution_count": null,
   "metadata": {},
   "outputs": [],
   "source": [
    "pgn = PgnDataset(['data/'+x for x in listdir('data')][:10])"
   ]
  },
  {
   "cell_type": "code",
   "execution_count": null,
   "metadata": {
    "tags": [
     "outputPrepend"
    ]
   },
   "outputs": [],
   "source": [
    "dataloader = DataLoader(pgn, batch_size=8)\n",
    "for i in dataloader:\n",
    "    print(i)"
   ]
  },
  {
   "cell_type": "code",
   "execution_count": null,
   "metadata": {},
   "outputs": [],
   "source": [
    "net.eval()\n",
    "board_test = ataxx.Board(fen='1xoxxxx/xxooxxx/xooooox/xxooooo/xxooooo/oo1ooxx/ooxoxxx')\n",
    "input_test = torch.tensor(board_to_list(board_test), dtype=torch.float32)"
   ]
  },
  {
   "cell_type": "code",
   "execution_count": null,
   "metadata": {
    "tags": []
   },
   "outputs": [],
   "source": [
    "print(input_test)\n",
    "with torch.no_grad():\n",
    "    print(net(input_test))"
   ]
  },
  {
   "cell_type": "code",
   "execution_count": null,
   "metadata": {},
   "outputs": [],
   "source": [
    "import numpy as np\n",
    "x = np.array(board_to_list(board_test))\n",
    "x = x.reshape(-1, 7*7)\n",
    "x = np.matmul(x, net.fc1.weight.detach().numpy().transpose()) + net.fc1.bias.detach().numpy()\n",
    "x = np.maximum(x, 0)\n",
    "x = np.matmul(x, net.fc2.weight.detach().numpy().transpose()) + net.fc2.bias.detach().numpy()\n",
    "x = np.maximum(x, 0)\n",
    "x = np.matmul(x, net.fc3.weight.detach().numpy().transpose()) + net.fc3.bias.detach().numpy()\n",
    "x = np.maximum(x, 0)\n",
    "x = np.matmul(x, net.fc_value.weight.detach().numpy().transpose()) + net.fc_value.bias.detach().numpy()\n",
    "x"
   ]
  },
  {
   "cell_type": "code",
   "execution_count": 12,
   "metadata": {},
   "outputs": [],
   "source": [
    "torch.save(net.state_dict(), 'model.pt')"
   ]
  },
  {
   "cell_type": "code",
   "execution_count": null,
   "metadata": {},
   "outputs": [],
   "source": [
    "torch.sqrt(torch.tensor(4, dtype=torch.float)).item()"
   ]
  },
  {
   "cell_type": "code",
   "execution_count": null,
   "metadata": {},
   "outputs": [],
   "source": []
  }
 ],
 "metadata": {
  "kernelspec": {
   "display_name": "Python 3.7.7 64-bit ('base': conda)",
   "language": "python",
   "name": "python37764bitbaseconda89d49493410846908a83cfe4240bdc92"
  },
  "language_info": {
   "codemirror_mode": {
    "name": "ipython",
    "version": 3
   },
   "file_extension": ".py",
   "mimetype": "text/x-python",
   "name": "python",
   "nbconvert_exporter": "python",
   "pygments_lexer": "ipython3",
   "version": "3.7.7-final"
  }
 },
 "nbformat": 4,
 "nbformat_minor": 4
}